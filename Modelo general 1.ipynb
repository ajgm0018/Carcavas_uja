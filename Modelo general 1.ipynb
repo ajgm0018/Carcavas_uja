{
 "cells": [
  {
   "cell_type": "markdown",
   "id": "4621f379",
   "metadata": {},
   "source": [
    "<h1>Importación de librerias</h1>"
   ]
  },
  {
   "cell_type": "code",
   "execution_count": 1,
   "id": "4557afcc",
   "metadata": {},
   "outputs": [],
   "source": [
    "import os\n",
    "import pandas as pd\n",
    "from osgeo import gdal\n",
    "import numpy as np\n",
    "import seaborn as sns\n",
    "import matplotlib.pyplot as plt\n",
    "from matplotlib import pyplot\n",
    "import matplotlib as mpl\n",
    "import itertools\n",
    "\n",
    "import xgboost as xgb\n",
    "from xgboost import plot_importance\n",
    "from sklearn import preprocessing\n",
    "from sklearn.model_selection import train_test_split\n",
    "from sklearn.preprocessing import OneHotEncoder\n",
    "from sklearn.preprocessing import LabelEncoder\n",
    "import sklearn.metrics as metrics\n",
    "from sklearn.metrics import classification_report, confusion_matrix\n",
    "from sklearn.metrics import roc_curve\n",
    "from sklearn.metrics import roc_auc_score\n",
    "from sklearn.model_selection import cross_val_score, KFold\n",
    "from sklearn.model_selection import cross_val_predict"
   ]
  },
  {
   "cell_type": "markdown",
   "id": "5b73eb44",
   "metadata": {},
   "source": [
    "<h1>Procesos</h1>"
   ]
  },
  {
   "cell_type": "code",
   "execution_count": 2,
   "id": "54da5581",
   "metadata": {},
   "outputs": [],
   "source": [
    "def cargar_datos(path):\n",
    "    dir = path\n",
    "    ficheros=[]\n",
    "    nombre=[]\n",
    "    \n",
    "    for file in os.listdir(dir):\n",
    "        if file.endswith(\".tif\"):\n",
    "            ficheros.append(os.path.join(dir, file))\n",
    "            nombre.append(file.split('.')[0])\n",
    "            \n",
    "    sorted(ficheros)\n",
    "    sorted(nombre)\n",
    "    \n",
    "    datos = pd.DataFrame(columns=nombre)\n",
    "    datos_sin_tocar = pd.DataFrame(columns=nombre)\n",
    "    datos_para_dibujado = pd.DataFrame(columns=nombre)\n",
    "    \n",
    "    tif = gdal.Open(ficheros[1])\n",
    "    tif_band = tif.GetRasterBand(1)\n",
    "    x = tif_band.XSize\n",
    "    y = tif_band.YSize\n",
    "    \n",
    "    contador = 0\n",
    "    for f in ficheros:\n",
    "        n = nombre[contador]\n",
    "        MDT = gdal.Open(f)\n",
    "\n",
    "        # Patrones sin datos se incluyen como -1\n",
    "        MDT.GetRasterBand(1).SetNoDataValue(-1)\n",
    "\n",
    "        # Pasamos los datos a float\n",
    "        band = MDT.GetRasterBand(1).ReadAsArray().astype(float)\n",
    "\n",
    "        # Se desechan las dos primeras filas y columnas debido a calculos de borde\n",
    "        band = band[1:y, 1:x]\n",
    "\n",
    "        # Reconstruimos el array con el tamaño de filas x columnas\n",
    "        x_recorte = x - 1\n",
    "        y_recorte = y - 1\n",
    "        band = np.reshape(band, x_recorte*y_recorte)\n",
    "\n",
    "        # Estos serán nuestros datos\n",
    "        datos[n] = band\n",
    "        datos_sin_tocar[n] = band\n",
    "        datos_para_dibujado[n] = band\n",
    "\n",
    "        contador = contador + 1\n",
    "    \n",
    "    return datos, datos_para_dibujado, datos_sin_tocar, x, y"
   ]
  },
  {
   "cell_type": "code",
   "execution_count": 3,
   "id": "6dc93e3d",
   "metadata": {},
   "outputs": [],
   "source": [
    "def tratamiento_datos_Berrueco(datos):\n",
    "    # Eliminación de datos erroneos por la importación de datos\n",
    "\n",
    "    datos = datos[datos['Carcavas'] != -9999]\n",
    "    datos = datos[datos['Orientaciones'] != 0]\n",
    "    datos = datos[datos['Distancia_Carreteras'] >= 0]\n",
    "    datos = datos[datos['Factor_LS'] >= 0]\n",
    "    datos = datos[datos['Pendiente'] != -9999.0]\n",
    "\n",
    "    # Eliminación de variables poco utilizadas por el modelo\n",
    "    datos = datos.drop(columns=['Factor_LS'])\n",
    "    datos = datos.drop(columns=['Carbonatos'])\n",
    "    datos = datos.drop(columns=['Geologia'])\n",
    "    datos = datos.drop(columns=['Usos_Del_Suelo'])\n",
    "    datos = datos.drop(columns=['Unidades_Edaficas'])\n",
    "\n",
    "    # Creación de manera eficiente los datos categóricos (float -> string)\n",
    "\n",
    "    # Orientaciones\n",
    "    datos.loc[datos.Orientaciones == 1, \"Orientaciones\"] = \"Norte\"\n",
    "    datos.loc[datos.Orientaciones == 2, \"Orientaciones\"] = \"Noreste\"\n",
    "    datos.loc[datos.Orientaciones == 3, \"Orientaciones\"] = \"Este\"\n",
    "    datos.loc[datos.Orientaciones == 4, \"Orientaciones\"] = \"Sureste\"\n",
    "    datos.loc[datos.Orientaciones == 5, \"Orientaciones\"] = \"Sur\"\n",
    "    datos.loc[datos.Orientaciones == 6, \"Orientaciones\"] = \"Suroeste\"\n",
    "    datos.loc[datos.Orientaciones == 7, \"Orientaciones\"] = \"Oeste\"\n",
    "    datos.loc[datos.Orientaciones == 8, \"Orientaciones\"] = \"Noroeste\"\n",
    "    \n",
    "    datos = datos.round(2)\n",
    "    \n",
    "    datos[\"Orientaciones\"] = datos[\"Orientaciones\"].astype(\"category\")\n",
    "    \n",
    "    categorical_cols = ['Orientaciones']\n",
    "\n",
    "    le = LabelEncoder()\n",
    "    ohe = OneHotEncoder()\n",
    "\n",
    "    datos[categorical_cols] = datos[categorical_cols].apply(lambda col: le.fit_transform(col))  \n",
    "    \n",
    "    return datos"
   ]
  },
  {
   "cell_type": "code",
   "execution_count": 4,
   "id": "5de9d6da",
   "metadata": {},
   "outputs": [],
   "source": [
    "def tratamiento_datos_SantoTome(datos):\n",
    "    \n",
    "    datos = datos[datos['Carcavas'] != -9999]\n",
    "    datos = datos[datos['Orientaciones'] != 0]\n",
    "    datos = datos[datos['Distancia_Carreteras'] >= 0]\n",
    "    datos = datos[datos['Pendiente'] != -9999.0]\n",
    "    datos = datos[datos['Unidades_Edaficas'] != -9999.0]\n",
    "\n",
    "    # Eliminación de variables poco utilizadas por el modelo\n",
    "    datos = datos.drop(columns=['Factor_LS'])\n",
    "    datos = datos.drop(columns=['Carbonatos'])\n",
    "    datos = datos.drop(columns=['Geologia'])\n",
    "    datos = datos.drop(columns=['Usos_Del_Suelo'])\n",
    "    datos = datos.drop(columns=['Unidades_Edaficas'])\n",
    "\n",
    "    # Orientaciones\n",
    "    datos.loc[datos.Orientaciones == 8, \"Orientaciones\"] = \"Noroeste\"\n",
    "    datos.loc[datos.Orientaciones == 7, \"Orientaciones\"] = \"Oeste\"\n",
    "    datos.loc[datos.Orientaciones == 5, \"Orientaciones\"] = \"Sur\"\n",
    "    datos.loc[datos.Orientaciones == 6, \"Orientaciones\"] = \"Suroeste\"\n",
    "    datos.loc[datos.Orientaciones == 1, \"Orientaciones\"] = \"Norte\"\n",
    "    datos.loc[datos.Orientaciones == 4, \"Orientaciones\"] = \"Sureste\"\n",
    "    datos.loc[datos.Orientaciones == 2, \"Orientaciones\"] = \"Noreste\"\n",
    "    datos.loc[datos.Orientaciones == 3, \"Orientaciones\"] = \"Este\"\n",
    "    \n",
    "    datos = datos.round(2)\n",
    "    \n",
    "    datos[\"Orientaciones\"] = datos[\"Orientaciones\"].astype(\"category\")\n",
    "    \n",
    "    categorical_cols = ['Orientaciones']\n",
    "\n",
    "    le = LabelEncoder()\n",
    "    ohe = OneHotEncoder()\n",
    "\n",
    "    datos[categorical_cols] = datos[categorical_cols].apply(lambda col: le.fit_transform(col))  \n",
    "    \n",
    "    return datos"
   ]
  },
  {
   "cell_type": "code",
   "execution_count": 5,
   "id": "64df99f3",
   "metadata": {},
   "outputs": [],
   "source": [
    "def tratamiento_datos_sin_tocar_Berrueco(datos_sin_tocar):\n",
    "    # Geología\n",
    "    datos_sin_tocar.loc[datos_sin_tocar.Geologia == 9001, \"Geologia\"] = \"Conglomerados\"\n",
    "    datos_sin_tocar.loc[datos_sin_tocar.Geologia == 9004, \"Geologia\"] = \"Arenas_fondo\"\n",
    "    datos_sin_tocar.loc[datos_sin_tocar.Geologia == 9103, \"Geologia\"] = \"Calizas_dolomias\"\n",
    "    datos_sin_tocar.loc[datos_sin_tocar.Geologia == 9132, \"Geologia\"] = \"Calcarenitas\"\n",
    "    datos_sin_tocar.loc[datos_sin_tocar.Geologia == 9133, \"Geologia\"] = \"Margas\"\n",
    "    datos_sin_tocar.loc[datos_sin_tocar.Geologia == 9134, \"Geologia\"] = \"Areniscas\"\n",
    "    datos_sin_tocar.loc[datos_sin_tocar.Geologia == 9201, \"Geologia\"] = \"Unidades_guadalquivir\"\n",
    "    datos_sin_tocar.loc[datos_sin_tocar.Geologia == 9202, \"Geologia\"] = \"Calizas_margosas\"\n",
    "\n",
    "    # Unidades edáficas\n",
    "    datos_sin_tocar.loc[datos_sin_tocar.Unidades_Edaficas == 1, \"Unidades_Edaficas\"] = \"Vertisoles_CCV\"\n",
    "    datos_sin_tocar.loc[datos_sin_tocar.Unidades_Edaficas == 2, \"Unidades_Edaficas\"] = \"Cambisoles_VVCCC\"\n",
    "    datos_sin_tocar.loc[datos_sin_tocar.Unidades_Edaficas == 3, \"Unidades_Edaficas\"] = \"Regosoles_CLCC\"\n",
    "    datos_sin_tocar.loc[datos_sin_tocar.Unidades_Edaficas == 4, \"Unidades_Edaficas\"] = \"Cambisoles_VRCVC\"\n",
    "    datos_sin_tocar.loc[datos_sin_tocar.Unidades_Edaficas == 5, \"Unidades_Edaficas\"] = \"Vertisoles_P\"\n",
    "    datos_sin_tocar.loc[datos_sin_tocar.Unidades_Edaficas == 6, \"Unidades_Edaficas\"] = \"Regosoles_CC\"\n",
    "\n",
    "    # Usos del suelo\n",
    "    datos_sin_tocar.loc[datos_sin_tocar.Usos_Del_Suelo == 1, \"Usos_Del_Suelo\"] = \"Tejido_urbano\"\n",
    "    datos_sin_tocar.loc[datos_sin_tocar.Usos_Del_Suelo == 2, \"Usos_Del_Suelo\"] = \"Olivares\"\n",
    "    datos_sin_tocar.loc[datos_sin_tocar.Usos_Del_Suelo == 3, \"Usos_Del_Suelo\"] = \"Cultivos_permanentes\"\n",
    "    datos_sin_tocar.loc[datos_sin_tocar.Usos_Del_Suelo == 4, \"Usos_Del_Suelo\"] = \"Pastizales\"\n",
    "\n",
    "    # Orientaciones\n",
    "    datos_sin_tocar.loc[datos_sin_tocar.Orientaciones == 1, \"Orientaciones\"] = \"Norte\"\n",
    "    datos_sin_tocar.loc[datos_sin_tocar.Orientaciones == 2, \"Orientaciones\"] = \"Noreste\"\n",
    "    datos_sin_tocar.loc[datos_sin_tocar.Orientaciones == 3, \"Orientaciones\"] = \"Este\"\n",
    "    datos_sin_tocar.loc[datos_sin_tocar.Orientaciones == 4, \"Orientaciones\"] = \"Sureste\"\n",
    "    datos_sin_tocar.loc[datos_sin_tocar.Orientaciones == 5, \"Orientaciones\"] = \"Sur\"\n",
    "    datos_sin_tocar.loc[datos_sin_tocar.Orientaciones == 6, \"Orientaciones\"] = \"Suroeste\"\n",
    "    datos_sin_tocar.loc[datos_sin_tocar.Orientaciones == 7, \"Orientaciones\"] = \"Oeste\"\n",
    "    datos_sin_tocar.loc[datos_sin_tocar.Orientaciones == 8, \"Orientaciones\"] = \"Noroeste\"\n",
    "\n",
    "    # Cambios para la visualización, no van a tener efecto en la predicción, puesto que luego serán\n",
    "    # modificados todos aquellos valores fuera del límite geográfico.\n",
    "    datos_sin_tocar.loc[datos_sin_tocar.Carcavas == -9999, \"Geologia\"] = \"Conglomerados\"\n",
    "    datos_sin_tocar.loc[datos_sin_tocar.Carcavas == -9999, \"Unidades_Edaficas\"] = \"Vertisoles_CCV\"\n",
    "    datos_sin_tocar.loc[datos_sin_tocar.Carcavas == -9999, \"Usos_Del_Suelo\"] = \"Tejido_urbano\"\n",
    "    datos_sin_tocar.loc[datos_sin_tocar.Carcavas == -9999, \"Orientaciones\"] = \"Norte\"\n",
    "    datos_sin_tocar.loc[datos_sin_tocar.Carcavas == -9999, \"Carcavas\"] = 0\n",
    "\n",
    "    datos_sin_tocar.loc[datos_sin_tocar.Distancia_Carreteras < 0, \"Geologia\"] = \"Conglomerados\"\n",
    "    datos_sin_tocar.loc[datos_sin_tocar.Distancia_Carreteras < 0, \"Unidades_Edaficas\"] = \"Vertisoles_CCV\"\n",
    "    datos_sin_tocar.loc[datos_sin_tocar.Distancia_Carreteras < 0, \"Usos_Del_Suelo\"] = \"Tejido_urbano\"\n",
    "    datos_sin_tocar.loc[datos_sin_tocar.Distancia_Carreteras < 0, \"Orientaciones\"] = \"Norte\"\n",
    "\n",
    "    datos_sin_tocar.loc[datos_sin_tocar.Factor_LS < 0, \"Geologia\"] = \"Conglomerados\"\n",
    "    datos_sin_tocar.loc[datos_sin_tocar.Factor_LS < 0, \"Unidades_Edaficas\"] = \"Vertisoles_CCV\"\n",
    "    datos_sin_tocar.loc[datos_sin_tocar.Factor_LS < 0, \"Usos_Del_Suelo\"] = \"Tejido_urbano\"\n",
    "    datos_sin_tocar.loc[datos_sin_tocar.Factor_LS < 0, \"Orientaciones\"] = \"Norte\"\n",
    "\n",
    "    datos_sin_tocar.loc[datos_sin_tocar.Pendiente == -9999.0, \"Geologia\"] = \"Conglomerados\"\n",
    "    datos_sin_tocar.loc[datos_sin_tocar.Pendiente == -9999.0, \"Unidades_Edaficas\"] = \"Vertisoles_CCV\"\n",
    "    datos_sin_tocar.loc[datos_sin_tocar.Pendiente == -9999.0, \"Usos_Del_Suelo\"] = \"Tejido_urbano\"\n",
    "    datos_sin_tocar.loc[datos_sin_tocar.Pendiente == -9999.0, \"Orientaciones\"] = \"Norte\"\n",
    "\n",
    "    datos_sin_tocar.loc[datos_sin_tocar.Orientaciones == 0, \"Orientaciones\"] = \"Norte\"\n",
    "\n",
    "    datos_sin_tocar = datos_sin_tocar.drop(columns=['Factor_LS'])\n",
    "    datos_sin_tocar = datos_sin_tocar.drop(columns=['Carbonatos'])\n",
    "    datos_sin_tocar = datos_sin_tocar.drop(columns=['Geologia'])\n",
    "    datos_sin_tocar = datos_sin_tocar.drop(columns=['Usos_Del_Suelo'])\n",
    "    datos_sin_tocar = datos_sin_tocar.drop(columns=['Unidades_Edaficas'])\n",
    "    \n",
    "    return datos_sin_tocar"
   ]
  },
  {
   "cell_type": "code",
   "execution_count": 6,
   "id": "71fb99f0",
   "metadata": {},
   "outputs": [],
   "source": [
    "def tratamiento_datos_sin_tocar_SantoTome(datos_sin_tocar):\n",
    "    # Geología\n",
    "    datos_sin_tocar.loc[datos_sin_tocar.Geologia == 1, \"Geologia\"] = \"Calizas\"\n",
    "    datos_sin_tocar.loc[datos_sin_tocar.Geologia == 2, \"Geologia\"] = \"Arenas\"\n",
    "    datos_sin_tocar.loc[datos_sin_tocar.Geologia == 3, \"Geologia\"] = \"Calcarenitas\"\n",
    "    datos_sin_tocar.loc[datos_sin_tocar.Geologia == 4, \"Geologia\"] = \"Margas\"\n",
    "    datos_sin_tocar.loc[datos_sin_tocar.Geologia == 5, \"Geologia\"] = \"Conglomerados\"\n",
    "    datos_sin_tocar.loc[datos_sin_tocar.Geologia == 6, \"Geologia\"] = \"Brechas\"\n",
    "\n",
    "    # Unidades edáficas\n",
    "    datos_sin_tocar.loc[datos_sin_tocar.Unidades_Edaficas == 48, \"Unidades_Edaficas\"] = \"Cambisoles_RV\"\n",
    "    datos_sin_tocar.loc[datos_sin_tocar.Unidades_Edaficas == 44, \"Unidades_Edaficas\"] = \"Cambisoles_RLR\"\n",
    "    datos_sin_tocar.loc[datos_sin_tocar.Unidades_Edaficas == 22, \"Unidades_Edaficas\"] = \"Vertisoles_PC\"\n",
    "    datos_sin_tocar.loc[datos_sin_tocar.Unidades_Edaficas == 23, \"Unidades_Edaficas\"] = \"Vertisoles_CCRV\"\n",
    "\n",
    "    # Usos del suelo\n",
    "    datos_sin_tocar.loc[datos_sin_tocar.Usos_Del_Suelo == 3, \"Usos_Del_Suelo\"] = \"Olivares\"\n",
    "    datos_sin_tocar.loc[datos_sin_tocar.Usos_Del_Suelo == 2, \"Usos_Del_Suelo\"] = \"Labor_secano\"\n",
    "    datos_sin_tocar.loc[datos_sin_tocar.Usos_Del_Suelo == 4, \"Usos_Del_Suelo\"] = \"Mosaico_cultivos\"\n",
    "\n",
    "    # Orientaciones\n",
    "    datos_sin_tocar.loc[datos_sin_tocar.Orientaciones == 8, \"Orientaciones\"] = \"Noroeste\"\n",
    "    datos_sin_tocar.loc[datos_sin_tocar.Orientaciones == 7, \"Orientaciones\"] = \"Oeste\"\n",
    "    datos_sin_tocar.loc[datos_sin_tocar.Orientaciones == 5, \"Orientaciones\"] = \"Sur\"\n",
    "    datos_sin_tocar.loc[datos_sin_tocar.Orientaciones == 6, \"Orientaciones\"] = \"Suroeste\"\n",
    "    datos_sin_tocar.loc[datos_sin_tocar.Orientaciones == 1, \"Orientaciones\"] = \"Norte\"\n",
    "    datos_sin_tocar.loc[datos_sin_tocar.Orientaciones == 4, \"Orientaciones\"] = \"Sureste\"\n",
    "    datos_sin_tocar.loc[datos_sin_tocar.Orientaciones == 2, \"Orientaciones\"] = \"Noreste\"\n",
    "    datos_sin_tocar.loc[datos_sin_tocar.Orientaciones == 3, \"Orientaciones\"] = \"Este\"\n",
    "\n",
    "    # Cambios para la visualización, no van a tener efecto en la predicción, puesto que luego serán\n",
    "    # modificados todos aquellos valores fuera del límite geográfico.\n",
    "    datos_sin_tocar.loc[datos_sin_tocar.Carcavas == -9999, \"Geologia\"] = \"Conglomerados\"\n",
    "    datos_sin_tocar.loc[datos_sin_tocar.Carcavas == -9999, \"Unidades_Edaficas\"] = \"Cambisoles_RV\"\n",
    "    datos_sin_tocar.loc[datos_sin_tocar.Carcavas == -9999, \"Usos_Del_Suelo\"] = \"Mosaico_cultivos\"\n",
    "    datos_sin_tocar.loc[datos_sin_tocar.Carcavas == -9999, \"Orientaciones\"] = \"Norte\"\n",
    "    datos_sin_tocar.loc[datos_sin_tocar.Carcavas == -9999, \"Carcavas\"] = 0\n",
    "\n",
    "    datos_sin_tocar.loc[datos_sin_tocar.Distancia_Carreteras < 0, \"Geologia\"] = \"Conglomerados\"\n",
    "    datos_sin_tocar.loc[datos_sin_tocar.Distancia_Carreteras < 0, \"Unidades_Edaficas\"] = \"Cambisoles_RV\"\n",
    "    datos_sin_tocar.loc[datos_sin_tocar.Distancia_Carreteras < 0, \"Usos_Del_Suelo\"] = \"Mosaico_cultivos\"\n",
    "    datos_sin_tocar.loc[datos_sin_tocar.Distancia_Carreteras < 0, \"Orientaciones\"] = \"Norte\"\n",
    "\n",
    "    datos_sin_tocar.loc[datos_sin_tocar.Factor_LS < 0, \"Geologia\"] = \"Conglomerados\"\n",
    "    datos_sin_tocar.loc[datos_sin_tocar.Factor_LS < 0, \"Unidades_Edaficas\"] = \"Cambisoles_RV\"\n",
    "    datos_sin_tocar.loc[datos_sin_tocar.Factor_LS < 0, \"Usos_Del_Suelo\"] = \"Mosaico_cultivos\"\n",
    "    datos_sin_tocar.loc[datos_sin_tocar.Factor_LS < 0, \"Orientaciones\"] = \"Norte\"\n",
    "\n",
    "    datos_sin_tocar.loc[datos_sin_tocar.Pendiente == -9999.0, \"Geologia\"] = \"Conglomerados\"\n",
    "    datos_sin_tocar.loc[datos_sin_tocar.Pendiente == -9999.0, \"Unidades_Edaficas\"] = \"Cambisoles_RV\"\n",
    "    datos_sin_tocar.loc[datos_sin_tocar.Pendiente == -9999.0, \"Usos_Del_Suelo\"] = \"Mosaico_cultivos\"\n",
    "    datos_sin_tocar.loc[datos_sin_tocar.Pendiente == -9999.0, \"Orientaciones\"] = \"Norte\"\n",
    "\n",
    "    datos_sin_tocar.loc[datos_sin_tocar.Unidades_Edaficas == -9999.0, \"Geologia\"] = \"Conglomerados\"\n",
    "    datos_sin_tocar.loc[datos_sin_tocar.Unidades_Edaficas == -9999.0, \"Unidades_Edaficas\"] = \"Cambisoles_RV\"\n",
    "    datos_sin_tocar.loc[datos_sin_tocar.Unidades_Edaficas == -9999.0, \"Usos_Del_Suelo\"] = \"Mosaico_cultivos\"\n",
    "    datos_sin_tocar.loc[datos_sin_tocar.Unidades_Edaficas == -9999.0, \"Orientaciones\"] = \"Norte\"\n",
    "\n",
    "    datos_sin_tocar.loc[datos_sin_tocar.Orientaciones == 0, \"Orientaciones\"] = \"Norte\"\n",
    "    \n",
    "    datos_sin_tocar = datos_sin_tocar.drop(columns=['Factor_LS'])\n",
    "    datos_sin_tocar = datos_sin_tocar.drop(columns=['Carbonatos'])\n",
    "    datos_sin_tocar = datos_sin_tocar.drop(columns=['Geologia'])\n",
    "    datos_sin_tocar = datos_sin_tocar.drop(columns=['Usos_Del_Suelo'])\n",
    "    datos_sin_tocar = datos_sin_tocar.drop(columns=['Unidades_Edaficas'])\n",
    "    \n",
    "    return datos_sin_tocar"
   ]
  },
  {
   "cell_type": "code",
   "execution_count": 7,
   "id": "7ba5144e",
   "metadata": {},
   "outputs": [],
   "source": [
    "def modelo_XGBoost(learning_rate, depth, estimators):\n",
    "    modelo_xgb = xgb.XGBClassifier(use_label_encoder=False, verbosity=0, eta=learning_rate,\n",
    "                                max_depth=depth, sampling_method='gradient_based',\n",
    "                                objetive='binary:logitraw', scale_pos_weight=0.97,\n",
    "                                n_estimators=estimators)\n",
    "    return modelo_xgb"
   ]
  },
  {
   "cell_type": "code",
   "execution_count": 8,
   "id": "ebc5fffb",
   "metadata": {},
   "outputs": [],
   "source": [
    "def m_confusion(Y_test, Y_pred):\n",
    "    cnf_matrix = confusion_matrix(Y_test, Y_pred, labels=[1,0])\n",
    "    tp, fn, fp, tn = cnf_matrix.ravel()\n",
    "    return tp, fn, fp, tn"
   ]
  },
  {
   "cell_type": "code",
   "execution_count": 9,
   "id": "b61e3209",
   "metadata": {},
   "outputs": [],
   "source": [
    "def kappa(TP, FP, FN, TN):\n",
    "    N = TP+TN+FP+FN\n",
    "\n",
    "    precision = (TP+TN)/(TP+TN+FP+FN)\n",
    "    \n",
    "    Pexp = ((TP+FN)*(TP+FP)+(FP+TN)*(FN+TN))/(N*N)\n",
    "    \n",
    "    Pobs = (TP+TN)/N\n",
    "    \n",
    "    k = (Pobs - Pexp)/(1 - Pexp)\n",
    "    \n",
    "    return k"
   ]
  },
  {
   "cell_type": "code",
   "execution_count": 10,
   "id": "a7cd8c17",
   "metadata": {},
   "outputs": [],
   "source": [
    "def prediccion_cruzada(modelo, x, y, particiones):  \n",
    "    y_pred = cross_val_predict(modelo, x, y, cv=particiones)\n",
    "    return y_pred"
   ]
  },
  {
   "cell_type": "code",
   "execution_count": 11,
   "id": "883906ea",
   "metadata": {},
   "outputs": [],
   "source": [
    "def validaciones(modelo):\n",
    "    \n",
    "    y_pred = modelo_xgb.predict(x)\n",
    "    tp, fn, fp, tn = m_confusion(y, y_pred)\n",
    "    k = kappa(tp, fp, fn, tn)\n",
    "\n",
    "    return k, tp"
   ]
  },
  {
   "cell_type": "code",
   "execution_count": 12,
   "id": "c98340b1",
   "metadata": {},
   "outputs": [],
   "source": [
    "def validaciones_modelo2(modelo, x_pred, y_P):\n",
    "    \n",
    "    y_pred = modelo_xgb.predict(x_pred)\n",
    "    tp, fn, fp, tn = m_confusion(y_P, y_pred)\n",
    "    k = kappa(tp, fp, fn, tn)\n",
    "\n",
    "    return k, tp"
   ]
  },
  {
   "cell_type": "code",
   "execution_count": 13,
   "id": "ff3a396f",
   "metadata": {},
   "outputs": [],
   "source": [
    "def dibujar_inline(prediccion, x, y):\n",
    "    SalidaDibujo = np.reshape(prediccion, (y,x))\n",
    "    print(SalidaDibujo.shape)\n",
    "    \n",
    "    #configuracion necesaria de pyplot para ver las imagenes en escala de grises  \n",
    "    plt.rcParams['image.cmap'] = 'jet'\n",
    "    plt.figure(figsize=(14,14))\n",
    "    plt.imshow(SalidaDibujo, vmin=0, vmax=1)\n",
    "    return SalidaDibujo"
   ]
  },
  {
   "cell_type": "code",
   "execution_count": 14,
   "id": "1fac0cfb",
   "metadata": {},
   "outputs": [],
   "source": [
    "def dibujar_inline_X(prediccion, x, y):\n",
    "\n",
    "    cmap = mpl.colors.ListedColormap(['green','limegreen','yellow','orange','darkgoldenrod','red','black'])\n",
    "    bins = [0.0, 0.05, 0.2, 0.4, 0.7, 0.8, 1.0]\n",
    "\n",
    "    norm = mpl.colors.BoundaryNorm(boundaries=bins, ncolors=len(cmap.colors)-1 )\n",
    "\n",
    "    SalidaDibujo = np.reshape(prediccion, (y,x))\n",
    "    \n",
    "    x = np.arange(0, x, 1)\n",
    "    y = np.arange(0, y, 1)\n",
    "    \n",
    "    fig, ax = plt.subplots(figsize=(14,14))\n",
    "    ax.pcolormesh(x, y, SalidaDibujo, cmap = cmap, norm=norm, shading='flat')\n",
    "\n",
    "    fig.show()\n",
    "    return SalidaDibujo"
   ]
  },
  {
   "cell_type": "code",
   "execution_count": 15,
   "id": "95bf8477",
   "metadata": {},
   "outputs": [],
   "source": [
    "def dibujarCustomBar():\n",
    "    fig, ax = plt.subplots(figsize=(6, 1))\n",
    "    fig.subplots_adjust(bottom=0.5)\n",
    "\n",
    "    cmap = mpl.colors.ListedColormap(['green','limegreen','yellow','orange','darkgoldenrod','red','black'])\n",
    "    cmap.set_over('0.25')\n",
    "    cmap.set_under('0.75')\n",
    "\n",
    "    bounds = [0.0, 0.05, 0.2, 0.4, 0.7, 0.8, 1.0]\n",
    "    norm = mpl.colors.BoundaryNorm(bounds, cmap.N)\n",
    "    cb2 = mpl.colorbar.ColorbarBase(ax, cmap=cmap,\n",
    "                                    norm=norm,\n",
    "                                    boundaries=[0] + bounds + [13],\n",
    "                                    extend='both',\n",
    "                                    ticks=bounds,\n",
    "                                    spacing='proportional',\n",
    "                                    orientation='horizontal')\n",
    "    fig.show()"
   ]
  },
  {
   "cell_type": "markdown",
   "id": "3d97c537",
   "metadata": {},
   "source": [
    "<h1>Modelo 1. Entrenamiento total - PRINCIPAL</h1>"
   ]
  },
  {
   "cell_type": "code",
   "execution_count": 16,
   "id": "d5faf7ed",
   "metadata": {},
   "outputs": [
    {
     "data": {
      "text/plain": [
       "'\\npath = \"Raster/SantoTome\"\\ndatos = cargar_datos(path)\\ndatos = tratamiento_datos_SantoTome(datos)\\ny = datos.Carcavas\\ndatos = datos.drop([\\'Carcavas\\'], axis=1)\\nx = datos\\n\\n# Entrenamiento\\nprint(\"Entrenando modelo\")\\nmodelo_xgb = modelo_XGBoost(0.1, 6, 150)\\nmodelo_xgb.fit(x, y)\\n\\n# Carga de datos y tratamiento Berrueco\\npath = \"Raster/Berrueco II\"\\ndatos = cargar_datos(path)\\ndatos = tratamiento_datos_Berrueco(datos)\\ny = datos.Carcavas\\ndatos = datos.drop([\\'Carcavas\\'], axis=1)\\nx = datos\\n\\n# Validaciones\\nprint(\"Validando modelo\")\\nk, tp = validaciones(modelo_xgb, )\\nprint(\"K: \", k)\\nprint(\"TP: \", tp)\\n'"
      ]
     },
     "execution_count": 16,
     "metadata": {},
     "output_type": "execute_result"
    }
   ],
   "source": [
    "# Carga de datos y tratamiento Santo Tomé\n",
    "\"\"\"\n",
    "path = \"Raster/SantoTome\"\n",
    "datos = cargar_datos(path)\n",
    "datos = tratamiento_datos_SantoTome(datos)\n",
    "y = datos.Carcavas\n",
    "datos = datos.drop(['Carcavas'], axis=1)\n",
    "x = datos\n",
    "\n",
    "# Entrenamiento\n",
    "print(\"Entrenando modelo\")\n",
    "modelo_xgb = modelo_XGBoost(0.1, 6, 150)\n",
    "modelo_xgb.fit(x, y)\n",
    "\n",
    "# Carga de datos y tratamiento Berrueco\n",
    "path = \"Raster/Berrueco II\"\n",
    "datos = cargar_datos(path)\n",
    "datos = tratamiento_datos_Berrueco(datos)\n",
    "y = datos.Carcavas\n",
    "datos = datos.drop(['Carcavas'], axis=1)\n",
    "x = datos\n",
    "\n",
    "# Validaciones\n",
    "print(\"Validando modelo\")\n",
    "k, tp = validaciones(modelo_xgb, )\n",
    "print(\"K: \", k)\n",
    "print(\"TP: \", tp)\n",
    "\"\"\""
   ]
  },
  {
   "cell_type": "markdown",
   "id": "08795651",
   "metadata": {},
   "source": [
    "<h1>Modelo 2. Entrenamiento parcial de ambas - PRINCIPAL</h1>"
   ]
  },
  {
   "cell_type": "code",
   "execution_count": 17,
   "id": "5563a5c2",
   "metadata": {},
   "outputs": [
    {
     "name": "stdout",
     "output_type": "stream",
     "text": [
      "Uniendo datos\n",
      "Entrenando modelo\n",
      "Datos para el dibujado  1506681\n",
      "Validando modelo\n",
      "K:  0.12321254699657132\n",
      "TP:  1858\n"
     ]
    }
   ],
   "source": [
    "# Carga de datos y tratamiento Santo Tomé\n",
    "path = \"Raster/SantoTome\"\n",
    "datos, datos_para_dibujado_3, datos_sin_tocar, x_siz, y_siz = cargar_datos(path)\n",
    "datos = tratamiento_datos_SantoTome(datos)\n",
    "\n",
    "datos_mitad = np.array_split(datos, 2)\n",
    "\n",
    "# Carga de datos y tratamiento Berrueco\n",
    "path = \"Raster/Berrueco II\"\n",
    "datos2, datos_para_dibujado_2, datos_sin_tocar, x_siz, y_siz = cargar_datos(path)\n",
    "datos2 = tratamiento_datos_Berrueco(datos2)\n",
    "\n",
    "datos_mitad2 = np.array_split(datos2, 2)\n",
    "\n",
    "# Unión de datos\n",
    "print(\"Uniendo datos\")\n",
    "frames = [datos_mitad[0], datos_mitad2[0]]\n",
    "datos = pd.concat(frames)\n",
    "y = datos.Carcavas\n",
    "datos = datos.drop(['Carcavas'], axis=1)\n",
    "x = datos\n",
    "\n",
    "# Entrenamiento con 0.1 learning rate, 6 de máxima profundidad y 150 estimadores\n",
    "print(\"Entrenando modelo\")\n",
    "modelo_xgb = modelo_XGBoost(0.05, 4, 60)\n",
    "modelo_xgb.fit(x, y)\n",
    "\n",
    "\n",
    "\n",
    "# ----------------------------------------------------------------------------- #\n",
    "# ----------------------------------------------------------------------------- #\n",
    "# ----------------------------------------------------------------------------- #\n",
    "\n",
    "\n",
    "# Validación\n",
    "\n",
    "path = \"Raster/Berrueco II\"\n",
    "#path = \"Raster/SantoTome\"\n",
    "\n",
    "datos, datos_para_dibujado, datos_sin_tocar, x_siz, y_siz = cargar_datos(path)\n",
    "print(\"Datos para el dibujado \", len(datos_para_dibujado))\n",
    "\n",
    "datos = tratamiento_datos_Berrueco(datos)\n",
    "#datos = tratamiento_datos_SantoTome(datos)\n",
    "\n",
    "y = datos.Carcavas\n",
    "datos = datos.drop(['Carcavas'], axis=1)\n",
    "x = datos\n",
    "\n",
    "# Validaciones\n",
    "print(\"Validando modelo\")\n",
    "k, tp = validaciones_modelo2(modelo_xgb, x, y)\n",
    "print(\"K: \", k)\n",
    "print(\"TP: \", tp)"
   ]
  },
  {
   "cell_type": "markdown",
   "id": "a82d8b7d",
   "metadata": {},
   "source": [
    "<h1>Preparacion de mapa de susceptibilidad</h1>"
   ]
  },
  {
   "cell_type": "code",
   "execution_count": 18,
   "id": "bcc0b596",
   "metadata": {},
   "outputs": [
    {
     "name": "stdout",
     "output_type": "stream",
     "text": [
      "1506681\n"
     ]
    }
   ],
   "source": [
    "# Preparando la variable X\n",
    "\n",
    "path = \"Raster/Berrueco II\"\n",
    "#path = \"Raster/SantoTome\"\n",
    "\n",
    "datos, datos_para_dibujado, datos_sin_tocar, x_siz, y_siz = cargar_datos(path)\n",
    "\n",
    "datos_sin_tocar = tratamiento_datos_sin_tocar_Berrueco(datos_sin_tocar)\n",
    "#datos_sin_tocar = tratamiento_datos_sin_tocar_SantoTome(datos_sin_tocar)\n",
    "\n",
    "Y = datos_sin_tocar.Carcavas\n",
    "datos_sin_tocar = datos_sin_tocar.drop(['Carcavas'], axis=1)\n",
    "X = datos_sin_tocar\n",
    "\n",
    "X[\"Orientaciones\"] = X[\"Orientaciones\"].astype(\"category\")\n",
    "\n",
    "X = X.round(2)\n",
    "\n",
    "categorical_cols = ['Orientaciones']\n",
    "\n",
    "le = LabelEncoder()\n",
    "ohe = OneHotEncoder()\n",
    "\n",
    "X[categorical_cols] = X[categorical_cols].apply(lambda col: le.fit_transform(col))  \n",
    "\n",
    "print(len(X))"
   ]
  },
  {
   "cell_type": "code",
   "execution_count": 19,
   "id": "4262666c",
   "metadata": {},
   "outputs": [],
   "source": [
    "# Dibujar el mapa de susceptibilidad\n",
    "prob_pre = modelo_xgb.predict_proba(X)\n",
    "\n",
    "total = (prob_pre.size / 2)\n",
    "array_color = [0] * int(total)\n",
    "\n",
    "for i in range(int(total)):\n",
    "    array_color[i] = prob_pre[i][1]\n",
    "\n",
    "for i in datos_para_dibujado.index:\n",
    "    if datos_para_dibujado[\"Carcavas\"][i] == -9999 or datos_para_dibujado[\"Orientaciones\"][i] == 0 or datos_para_dibujado[\"Distancia_Carreteras\"][i] < 0 or datos_para_dibujado[\"Factor_LS\"][i] < 0 or datos_para_dibujado[\"Pendiente\"][i] == -9999 or datos_para_dibujado[\"Unidades_Edaficas\"][i] == -9999 :\n",
    "        array_color[i] = 0\n"
   ]
  },
  {
   "cell_type": "code",
   "execution_count": 20,
   "id": "23a6db04",
   "metadata": {},
   "outputs": [
    {
     "name": "stderr",
     "output_type": "stream",
     "text": [
      "C:\\Users\\bulth\\AppData\\Local\\Temp/ipykernel_6204/576432424.py:14: MatplotlibDeprecationWarning: shading='flat' when X and Y have the same dimensions as C is deprecated since 3.3.  Either specify the corners of the quadrilaterals with X and Y, or pass shading='auto', 'nearest' or 'gouraud', or set rcParams['pcolor.shading'].  This will become an error two minor releases later.\n",
      "  ax.pcolormesh(x, y, SalidaDibujo, cmap = cmap, norm=norm, shading='flat')\n",
      "C:\\Users\\bulth\\AppData\\Local\\Temp/ipykernel_6204/576432424.py:16: UserWarning: Matplotlib is currently using module://matplotlib_inline.backend_inline, which is a non-GUI backend, so cannot show the figure.\n",
      "  fig.show()\n"
     ]
    },
    {
     "data": {
      "image/png": "[encoded data removed]",
      "text/plain": [
       "<Figure size 1008x1008 with 1 Axes>"
      ]
     },
     "metadata": {
      "needs_background": "light"
     },
     "output_type": "display_data"
    }
   ],
   "source": [
    "SalidaDibujo = dibujar_inline_X(array_color, x_siz-1, y_siz-1)"
   ]
  },
  {
   "cell_type": "markdown",
   "id": "85d5c500",
   "metadata": {},
   "source": [
    "<h1>Salida para transformacion en R</h1>"
   ]
  },
  {
   "cell_type": "code",
   "execution_count": 21,
   "id": "0aad065f",
   "metadata": {},
   "outputs": [],
   "source": [
    "array_zero = np.zeros(SalidaDibujo.shape[1])\n",
    "array_zero = array_zero + 1\n",
    "salida = np.vstack((array_zero, SalidaDibujo))\n",
    "\n",
    "array_zero_2 = np.zeros(salida.shape[0])\n",
    "salida = np.hstack((array_zero_2.reshape(len(array_zero_2), 1), salida))\n",
    "\n",
    "#pd.DataFrame(salida).to_csv('prediccion_ST.csv', index = False, header = False)\n",
    "pd.DataFrame(salida).to_csv('prediccion_BR.csv', index = False, header = False)"
   ]
  },
  {
   "cell_type": "code",
   "execution_count": 22,
   "id": "b3e34756",
   "metadata": {},
   "outputs": [
    {
     "name": "stderr",
     "output_type": "stream",
     "text": [
      "C:\\Users\\bulth\\AppData\\Local\\Temp/ipykernel_6204/3036282315.py:18: UserWarning: Matplotlib is currently using module://matplotlib_inline.backend_inline, which is a non-GUI backend, so cannot show the figure.\n",
      "  fig.show()\n"
     ]
    },
    {
     "data": {
      "image/png": "[encoded data removed]",
      "text/plain": [
       "<Figure size 432x72 with 1 Axes>"
      ]
     },
     "metadata": {
      "needs_background": "light"
     },
     "output_type": "display_data"
    }
   ],
   "source": [
    "dibujarCustomBar()"
   ]
  },
  {
   "cell_type": "code",
   "execution_count": null,
   "id": "48b940b6",
   "metadata": {},
   "outputs": [],
   "source": []
  }
 ],
 "metadata": {
  "kernelspec": {
   "display_name": "Python 3 (ipykernel)",
   "language": "python",
   "name": "python3"
  },
  "language_info": {
   "codemirror_mode": {
    "name": "ipython",
    "version": 3
   },
   "file_extension": ".py",
   "mimetype": "text/x-python",
   "name": "python",
   "nbconvert_exporter": "python",
   "pygments_lexer": "ipython3",
   "version": "3.9.7"
  }
 },
 "nbformat": 4,
 "nbformat_minor": 5
}
